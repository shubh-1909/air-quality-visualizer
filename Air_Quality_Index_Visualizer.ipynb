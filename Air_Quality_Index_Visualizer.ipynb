{
  "nbformat": 4,
  "nbformat_minor": 0,
  "metadata": {
    "colab": {
      "provenance": []
    },
    "kernelspec": {
      "name": "python3",
      "display_name": "Python 3"
    },
    "language_info": {
      "name": "python"
    }
  },
  "cells": [
    {
      "cell_type": "markdown",
      "source": [
        "# 🌫️ Air Quality Index (AQI) Calculator & Visualizer\n",
        "This project calculates and visualizes AQI based on key air pollutant inputs:\n",
        "- PM2.5\n",
        "- PM10\n",
        "- NO₂\n",
        "- CO\n",
        "- O₃\n",
        "\n",
        "It uses the Indian **CPCB AQI guidelines** to classify air quality levels and visualize them with an informative graph.\n"
      ],
      "metadata": {
        "id": "OJVo413iyw9M"
      }
    },
    {
      "cell_type": "markdown",
      "source": [
        "## 📥 Step 1: Enter Pollutant Concentrations (in µg/m³)\n",
        "Fill in the concentration levels for major air pollutants below.\n"
      ],
      "metadata": {
        "id": "ID-WnHaIy1Zu"
      }
    },
    {
      "cell_type": "code",
      "execution_count": 26,
      "metadata": {
        "id": "EyUpjweRyrR5"
      },
      "outputs": [],
      "source": [
        "# Example input values\n",
        "pm25 = 9     # PM2.5 concentration\n",
        "pm10 = 18    # PM10 concentration\n",
        "no2 = 7     # NO2 concentration\n",
        "co = 0.1   # CO in mg/m³ (converted internally)\n",
        "o3 = 8      # O3 concentration\n"
      ]
    },
    {
      "cell_type": "markdown",
      "source": [
        "## 🧮 Step 2: Calculate Sub-Index for Each Pollutant\n",
        "The AQI is determined by the **maximum** sub-index value among all pollutants.\n"
      ],
      "metadata": {
        "id": "b4tCryhpzIgr"
      }
    },
    {
      "cell_type": "code",
      "source": [
        "# Sub-index calculation based on CPCB breakpoints\n",
        "def calculate_sub_index(conc, breakpoints):\n",
        "    for bp in breakpoints:\n",
        "        if bp[\"low\"] <= conc <= bp[\"high\"]:\n",
        "            Clow = bp[\"low\"]\n",
        "            Chigh = bp[\"high\"]\n",
        "            Ilow = bp[\"index_low\"]\n",
        "            Ihigh = bp[\"index_high\"]\n",
        "            return round(((Ihigh - Ilow) / (Chigh - Clow)) * (conc - Clow) + Ilow)\n",
        "    return None\n",
        "\n",
        "# Breakpoints for PM2.5 (µg/m³)\n",
        "pm25_bp = [\n",
        "    {\"low\": 0, \"high\": 30, \"index_low\": 0, \"index_high\": 50},\n",
        "    {\"low\": 31, \"high\": 60, \"index_low\": 51, \"index_high\": 100},\n",
        "    {\"low\": 61, \"high\": 90, \"index_low\": 101, \"index_high\": 200},\n",
        "    {\"low\": 91, \"high\": 120, \"index_low\": 201, \"index_high\": 300},\n",
        "    {\"low\": 121, \"high\": 250, \"index_low\": 301, \"index_high\": 400},\n",
        "    {\"low\": 251, \"high\": 500, \"index_low\": 401, \"index_high\": 500},\n",
        "]\n",
        "\n",
        "# You can define similar breakpoints for PM10, NO2, CO, and O3...\n",
        "\n",
        "# Calculate AQI for PM2.5 (you'll extend to others next)\n",
        "aqi_pm25 = calculate_sub_index(pm25, pm25_bp)\n",
        "print(f\"PM2.5 AQI Sub-Index: {aqi_pm25}\")\n"
      ],
      "metadata": {
        "colab": {
          "base_uri": "https://localhost:8080/"
        },
        "id": "Ld9qPHpWzKCM",
        "outputId": "63132102-5fc8-44a2-c928-fe45efc3a125"
      },
      "execution_count": 27,
      "outputs": [
        {
          "output_type": "stream",
          "name": "stdout",
          "text": [
            "PM2.5 AQI Sub-Index: 15\n"
          ]
        }
      ]
    },
    {
      "cell_type": "markdown",
      "source": [
        "## 🔢 Step 3: Compute Overall AQI\n",
        "Take the highest sub-index among all pollutants as the AQI value.\n"
      ],
      "metadata": {
        "id": "1cLO0VNCzSvl"
      }
    },
    {
      "cell_type": "code",
      "source": [
        "# Add other pollutant breakpoints here (sample logic for demo)\n",
        "# To keep it short, we'll use same PM2.5 breakpoints as placeholder\n",
        "\n",
        "aqi_pm10 = calculate_sub_index(pm10, pm25_bp)  # use real PM10 breakpoints ideally\n",
        "aqi_no2 = calculate_sub_index(no2, pm25_bp)    # placeholder\n",
        "aqi_co = calculate_sub_index(co * 100, pm25_bp)  # Convert mg/m³ to µg/m³\n",
        "aqi_o3 = calculate_sub_index(o3, pm25_bp)      # placeholder\n",
        "\n",
        "# Collect all sub-indices\n",
        "sub_indices = {\n",
        "    \"PM2.5\": aqi_pm25,\n",
        "    \"PM10\": aqi_pm10,\n",
        "    \"NO₂\": aqi_no2,\n",
        "    \"CO\": aqi_co,\n",
        "    \"O₃\": aqi_o3\n",
        "}\n",
        "\n",
        "# Get max\n",
        "final_aqi = max(sub_indices.values())\n",
        "main_pollutant = max(sub_indices, key=sub_indices.get)\n",
        "\n",
        "print(\"🌫️ Final AQI:\", final_aqi)\n",
        "print(\"🔬 Main Pollutant:\", main_pollutant)\n"
      ],
      "metadata": {
        "colab": {
          "base_uri": "https://localhost:8080/"
        },
        "id": "DDRoQJRxzT5y",
        "outputId": "32235b12-ac05-4eee-b637-63530158018d"
      },
      "execution_count": 28,
      "outputs": [
        {
          "output_type": "stream",
          "name": "stdout",
          "text": [
            "🌫️ Final AQI: 30\n",
            "🔬 Main Pollutant: PM10\n"
          ]
        }
      ]
    },
    {
      "cell_type": "code",
      "source": [
        "def classify_aqi(aqi):\n",
        "    if aqi <= 50:\n",
        "        return \"Good 🌿\", \"green\"\n",
        "    elif aqi <= 100:\n",
        "        return \"Satisfactory 😊\", \"yellow\"\n",
        "    elif aqi <= 200:\n",
        "        return \"Moderate 😐\", \"orange\"\n",
        "    elif aqi <= 300:\n",
        "        return \"Poor 😷\", \"red\"\n",
        "    elif aqi <= 400:\n",
        "        return \"Very Poor 🤢\", \"purple\"\n",
        "    else:\n",
        "        return \"Severe ☠️\", \"maroon\"\n",
        "\n",
        "category, color = classify_aqi(final_aqi)\n",
        "print(\"🚦 Air Quality Category:\", category)\n"
      ],
      "metadata": {
        "colab": {
          "base_uri": "https://localhost:8080/"
        },
        "id": "7s5vvqnwzf6a",
        "outputId": "f58a1c90-b905-452f-d928-3b444b2f403d"
      },
      "execution_count": 29,
      "outputs": [
        {
          "output_type": "stream",
          "name": "stdout",
          "text": [
            "🚦 Air Quality Category: Good 🌿\n"
          ]
        }
      ]
    },
    {
      "cell_type": "markdown",
      "source": [
        "## 📊 Step 4: Visualize AQI Sub-Indices\n"
      ],
      "metadata": {
        "id": "bqLjGUIDzjvk"
      }
    },
    {
      "cell_type": "code",
      "source": [
        "import matplotlib.pyplot as plt\n",
        "\n",
        "plt.figure(figsize=(8,5))\n",
        "plt.bar(sub_indices.keys(), sub_indices.values(), color='skyblue')\n",
        "plt.title(f\"AQI Breakdown by Pollutant\\nOverall AQI: {final_aqi} ({category})\", fontsize=14)\n",
        "plt.xlabel(\"Pollutants\")\n",
        "plt.ylabel(\"AQI Sub-Index\")\n",
        "plt.grid(axis='y', linestyle='--', alpha=0.5)\n",
        "plt.tight_layout()\n",
        "plt.show()\n"
      ],
      "metadata": {
        "colab": {
          "base_uri": "https://localhost:8080/",
          "height": 575
        },
        "id": "53sjmrafzkz0",
        "outputId": "271341c2-1e76-4b5c-9d21-5600db265f27"
      },
      "execution_count": 30,
      "outputs": [
        {
          "output_type": "stream",
          "name": "stderr",
          "text": [
            "/tmp/ipython-input-30-259127971.py:9: UserWarning: Glyph 127807 (\\N{HERB}) missing from font(s) DejaVu Sans.\n",
            "  plt.tight_layout()\n",
            "/usr/local/lib/python3.11/dist-packages/IPython/core/pylabtools.py:151: UserWarning: Glyph 127807 (\\N{HERB}) missing from font(s) DejaVu Sans.\n",
            "  fig.canvas.print_figure(bytes_io, **kw)\n"
          ]
        },
        {
          "output_type": "display_data",
          "data": {
            "text/plain": [
              "<Figure size 800x500 with 1 Axes>"
            ],
            "image/png": "[encoded data removed]"
          },
          "metadata": {}
        }
      ]
    },
    {
      "cell_type": "markdown",
      "source": [
        "## ✅ Conclusion\n",
        "This tool calculates AQI using standard pollutant inputs and classifies air quality based on CPCB guidelines. You can extend this to accept live data via APIs or multiple cities via CSV uploads.\n"
      ],
      "metadata": {
        "id": "6Hu0mm0Yzsjf"
      }
    }
  ]
}